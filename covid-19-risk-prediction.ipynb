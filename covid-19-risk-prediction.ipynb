{
 "cells": [
  {
   "cell_type": "markdown",
   "id": "d24f1bb2",
   "metadata": {
    "papermill": {
     "duration": 0.015506,
     "end_time": "2022-11-16T12:44:51.833296",
     "exception": false,
     "start_time": "2022-11-16T12:44:51.817790",
     "status": "completed"
    },
    "tags": []
   },
   "source": [
    "---\n",
    "<h1 align=\"center\">Covid 19 - Risk Prediction</h1>\n",
    "<h3 align=\"center\">Authors: Meir Nizri; Netanel Indik</h3>\n",
    "<h5 align=\"center\">Date: September 2021</h5>"
   ]
  },
  {
   "cell_type": "markdown",
   "id": "78d80dcc",
   "metadata": {
    "papermill": {
     "duration": 0.015603,
     "end_time": "2022-11-16T12:44:51.863143",
     "exception": false,
     "start_time": "2022-11-16T12:44:51.847540",
     "status": "completed"
    },
    "tags": []
   },
   "source": [
    "The main goal of this project is to build a machine learning model that, given a Covid-19 patient's current symptom, status, and medical history, will predict whether the patient is in high risk or not. To this end, we will use several classification techniques in machine learning.   \n",
    "- K-Nearest Neighbours  \n",
    "- Support Vector Machine  \n",
    "- Decision Trees  \n",
    "- Multilayer Perceptron  \n",
    "\n",
    "In each technique we will test a variety of hyperparameters values to get the best model.\n"
   ]
  },
  {
   "cell_type": "markdown",
   "id": "d6e585e8",
   "metadata": {
    "papermill": {
     "duration": 0.013682,
     "end_time": "2022-11-16T12:44:51.890874",
     "exception": false,
     "start_time": "2022-11-16T12:44:51.877192",
     "status": "completed"
    },
    "tags": []
   },
   "source": [
    "---\n",
    "**Table of Contents**\n",
    "1. [Setting up environment](#section1)    \n",
    "2. [Process and split data](#section2)  \n",
    "3. [K-Nearest Neighbors](#section3)  \n",
    "4. [SVM](#section4)  \n",
    "5. [Decision Tree](#section5)  \n",
    "5. [Random Forsest](#section6)  \n",
    "5. [Multilayer Perceptron](#section7)  \n",
    "5. [Final Evaluation](#section8)  "
   ]
  },
  {
   "cell_type": "markdown",
   "id": "955c935d",
   "metadata": {
    "id": "aPrhqRCnc7-e",
    "papermill": {
     "duration": 0.013661,
     "end_time": "2022-11-16T12:44:51.918529",
     "exception": false,
     "start_time": "2022-11-16T12:44:51.904868",
     "status": "completed"
    },
    "tags": []
   },
   "source": [
    "---\n",
    "<a id='section1'></a>\n",
    "## 1. Setting up environment"
   ]
  },
  {
   "cell_type": "code",
   "execution_count": 1,
   "id": "f7fa8abf",
   "metadata": {
    "execution": {
     "iopub.execute_input": "2022-11-16T12:44:51.949063Z",
     "iopub.status.busy": "2022-11-16T12:44:51.948594Z",
     "iopub.status.idle": "2022-11-16T12:44:53.433728Z",
     "shell.execute_reply": "2022-11-16T12:44:53.432348Z"
    },
    "id": "7TSDQAIwcPsX",
    "papermill": {
     "duration": 1.503948,
     "end_time": "2022-11-16T12:44:53.436698",
     "exception": false,
     "start_time": "2022-11-16T12:44:51.932750",
     "status": "completed"
    },
    "tags": []
   },
   "outputs": [],
   "source": [
    "import numpy as np\n",
    "import pandas as pd\n",
    "from matplotlib import pyplot as plt\n",
    "import scipy\n",
    "\n",
    "from sklearn.model_selection import train_test_split\n",
    "from sklearn.svm import SVC\n",
    "from sklearn.tree import DecisionTreeClassifier\n",
    "from sklearn.ensemble import RandomForestClassifier\n",
    "from sklearn.neural_network import MLPClassifier\n",
    "from sklearn.metrics import classification_report"
   ]
  },
  {
   "cell_type": "markdown",
   "id": "a4146199",
   "metadata": {
    "id": "lwuhHOnLASsX",
    "papermill": {
     "duration": 0.013444,
     "end_time": "2022-11-16T12:44:53.464253",
     "exception": false,
     "start_time": "2022-11-16T12:44:53.450809",
     "status": "completed"
    },
    "tags": []
   },
   "source": [
    "---\n",
    "<a id='section2'></a>\n",
    "## 2. Process and split data\n",
    "Read data"
   ]
  },
  {
   "cell_type": "code",
   "execution_count": 2,
   "id": "1b941d5d",
   "metadata": {
    "execution": {
     "iopub.execute_input": "2022-11-16T12:44:53.494254Z",
     "iopub.status.busy": "2022-11-16T12:44:53.493219Z",
     "iopub.status.idle": "2022-11-16T12:44:56.175068Z",
     "shell.execute_reply": "2022-11-16T12:44:56.173942Z"
    },
    "papermill": {
     "duration": 2.699634,
     "end_time": "2022-11-16T12:44:56.177763",
     "exception": false,
     "start_time": "2022-11-16T12:44:53.478129",
     "status": "completed"
    },
    "tags": []
   },
   "outputs": [],
   "source": [
    "covid = pd.read_csv(\"/kaggle/input/covid19-dataset/Covid Data.csv\", low_memory = False)"
   ]
  },
  {
   "cell_type": "markdown",
   "id": "fc20880b",
   "metadata": {
    "papermill": {
     "duration": 0.013449,
     "end_time": "2022-11-16T12:44:56.205231",
     "exception": false,
     "start_time": "2022-11-16T12:44:56.191782",
     "status": "completed"
    },
    "tags": []
   },
   "source": [
    "Cleaning the data to keep only the rows containing 1, 2. values as 97 and 99 are missing data        "
   ]
  },
  {
   "cell_type": "code",
   "execution_count": 3,
   "id": "60611269",
   "metadata": {
    "execution": {
     "iopub.execute_input": "2022-11-16T12:44:56.236042Z",
     "iopub.status.busy": "2022-11-16T12:44:56.234872Z",
     "iopub.status.idle": "2022-11-16T12:44:56.870867Z",
     "shell.execute_reply": "2022-11-16T12:44:56.869702Z"
    },
    "papermill": {
     "duration": 0.655,
     "end_time": "2022-11-16T12:44:56.873954",
     "exception": false,
     "start_time": "2022-11-16T12:44:56.218954",
     "status": "completed"
    },
    "tags": []
   },
   "outputs": [],
   "source": [
    "covid = covid.loc[(covid.CLASIFFICATION_FINAL < 4)]\n",
    "covid = covid.loc[(covid.SEX == 1) | (covid.SEX == 2)]\n",
    "covid = covid.loc[(covid.USMER == 1) | (covid.USMER == 2)]\n",
    "covid = covid.loc[(covid.PATIENT_TYPE == 1) | (covid.PATIENT_TYPE == 2)]\n",
    "covid = covid.loc[(covid.PNEUMONIA == 1) | (covid.PNEUMONIA == 2)]\n",
    "covid = covid.loc[(covid.DIABETES == 1) | (covid.DIABETES == 2)]\n",
    "covid = covid.loc[(covid.COPD == 1) | (covid.COPD == 2)]\n",
    "covid = covid.loc[(covid.ASTHMA == 1) | (covid.ASTHMA == 2)]\n",
    "covid = covid.loc[(covid.INMSUPR == 1) | (covid.INMSUPR == 2)]\n",
    "covid = covid.loc[(covid.HIPERTENSION == 1) | (covid.HIPERTENSION == 2)]\n",
    "covid = covid.loc[(covid.OTHER_DISEASE == 1) | (covid.OTHER_DISEASE == 2)]\n",
    "covid = covid.loc[(covid.CARDIOVASCULAR == 1) | (covid.CARDIOVASCULAR == 2)]\n",
    "covid = covid.loc[(covid.OBESITY == 1) | (covid.OBESITY == 2)]\n",
    "covid = covid.loc[(covid.RENAL_CHRONIC == 1) | (covid.RENAL_CHRONIC == 2)]\n",
    "covid = covid.loc[(covid.TOBACCO == 1) | (covid.TOBACCO == 2)]"
   ]
  },
  {
   "cell_type": "markdown",
   "id": "4f530c09",
   "metadata": {
    "papermill": {
     "duration": 0.013878,
     "end_time": "2022-11-16T12:44:56.902080",
     "exception": false,
     "start_time": "2022-11-16T12:44:56.888202",
     "status": "completed"
    },
    "tags": []
   },
   "source": [
    "Modifying data to get it converted to One Hot Encoded data"
   ]
  },
  {
   "cell_type": "code",
   "execution_count": 4,
   "id": "ce8a88e7",
   "metadata": {
    "execution": {
     "iopub.execute_input": "2022-11-16T12:44:56.932793Z",
     "iopub.status.busy": "2022-11-16T12:44:56.932335Z",
     "iopub.status.idle": "2022-11-16T12:44:59.608408Z",
     "shell.execute_reply": "2022-11-16T12:44:59.607155Z"
    },
    "papermill": {
     "duration": 2.694439,
     "end_time": "2022-11-16T12:44:59.611053",
     "exception": false,
     "start_time": "2022-11-16T12:44:56.916614",
     "status": "completed"
    },
    "tags": []
   },
   "outputs": [],
   "source": [
    "covid.SEX = covid.SEX.apply(lambda x: x if x == 1 else 0)  \n",
    "covid.USMER = covid.USMER.apply(lambda x: x if x == 1 else 0)                     # no = 0, yes = 1\n",
    "covid.PATIENT_TYPE = covid.PATIENT_TYPE.apply(lambda x: 0 if x == 1 else 1)     \n",
    "covid.PNEUMONIA = covid.PNEUMONIA.apply(lambda x: x if x == 1 else 0)           \n",
    "covid.DIABETES = covid.DIABETES.apply(lambda x: x if x == 1 else 0)             \n",
    "covid.COPD = covid.COPD.apply(lambda x: x if x == 1 else 0)                     \n",
    "covid.ASTHMA = covid.ASTHMA.apply(lambda x: x if x == 1 else 0)                 \n",
    "covid.INMSUPR = covid.INMSUPR.apply(lambda x: x if x == 1 else 0)               \n",
    "covid.HIPERTENSION = covid.HIPERTENSION.apply(lambda x: x if x == 1 else 0)     \n",
    "covid.OTHER_DISEASE = covid.OTHER_DISEASE.apply(lambda x: x if x == 1 else -0)  \n",
    "covid.CARDIOVASCULAR = covid.CARDIOVASCULAR.apply(lambda x: x if x == 1 else 0) \n",
    "covid.OBESITY = covid.OBESITY.apply(lambda x: x if x == 1 else 0)               \n",
    "covid.RENAL_CHRONIC = covid.RENAL_CHRONIC.apply(lambda x: x if x == 1 else 0)   \n",
    "covid.TOBACCO = covid.TOBACCO.apply(lambda x: x if x == 1 else 0)               \n",
    "covid.DATE_DIED = covid.DATE_DIED.apply(lambda x: 0 if x == \"9999-99-99\" else 1)\n",
    "covid.PREGNANT = covid.PREGNANT.apply(lambda x: x if x == 1 else 0)           \n",
    "covid.INTUBED = covid.INTUBED.apply(lambda x: x if x == 1 else 0)                   \n",
    "covid.ICU = covid.ICU.apply(lambda x: x if x == 1 else 0)"
   ]
  },
  {
   "cell_type": "markdown",
   "id": "f9b8cc45",
   "metadata": {
    "papermill": {
     "duration": 0.013564,
     "end_time": "2022-11-16T12:44:59.639383",
     "exception": false,
     "start_time": "2022-11-16T12:44:59.625819",
     "status": "completed"
    },
    "tags": []
   },
   "source": [
    "Creating the label column from summing three columns of the data. This column represents whether the patient is at risk from covid."
   ]
  },
  {
   "cell_type": "code",
   "execution_count": 5,
   "id": "2c37a7dd",
   "metadata": {
    "execution": {
     "iopub.execute_input": "2022-11-16T12:44:59.668987Z",
     "iopub.status.busy": "2022-11-16T12:44:59.668567Z",
     "iopub.status.idle": "2022-11-16T12:44:59.887458Z",
     "shell.execute_reply": "2022-11-16T12:44:59.886236Z"
    },
    "papermill": {
     "duration": 0.23711,
     "end_time": "2022-11-16T12:44:59.890367",
     "exception": false,
     "start_time": "2022-11-16T12:44:59.653257",
     "status": "completed"
    },
    "tags": []
   },
   "outputs": [],
   "source": [
    "covid['AT_RISK'] = covid['DATE_DIED'] + covid['INTUBED'] + covid['ICU']\n",
    "covid.AT_RISK = covid.AT_RISK.apply(lambda x: 1 if x > 0 else 0) \n",
    "\n",
    "# Drop a few columns which are intuitively not longer useful\n",
    "covid.drop(columns = ['CLASIFFICATION_FINAL', 'INTUBED', 'ICU', 'DATE_DIED'], inplace=True)"
   ]
  },
  {
   "cell_type": "code",
   "execution_count": 6,
   "id": "29f82e4f",
   "metadata": {
    "execution": {
     "iopub.execute_input": "2022-11-16T12:44:59.922730Z",
     "iopub.status.busy": "2022-11-16T12:44:59.921529Z",
     "iopub.status.idle": "2022-11-16T12:44:59.953124Z",
     "shell.execute_reply": "2022-11-16T12:44:59.951238Z"
    },
    "id": "-KJV0erOAVSo",
    "outputId": "5fa3fdd2-831f-409c-f6fc-8710ad16287f",
    "papermill": {
     "duration": 0.050673,
     "end_time": "2022-11-16T12:44:59.955902",
     "exception": false,
     "start_time": "2022-11-16T12:44:59.905229",
     "status": "completed"
    },
    "tags": []
   },
   "outputs": [
    {
     "name": "stdout",
     "output_type": "stream",
     "text": [
      "<class 'pandas.core.frame.DataFrame'>\n",
      "Int64Index: 388878 entries, 0 to 1047937\n",
      "Data columns (total 18 columns):\n",
      " #   Column          Non-Null Count   Dtype\n",
      "---  ------          --------------   -----\n",
      " 0   USMER           388878 non-null  int64\n",
      " 1   MEDICAL_UNIT    388878 non-null  int64\n",
      " 2   SEX             388878 non-null  int64\n",
      " 3   PATIENT_TYPE    388878 non-null  int64\n",
      " 4   PNEUMONIA       388878 non-null  int64\n",
      " 5   AGE             388878 non-null  int64\n",
      " 6   PREGNANT        388878 non-null  int64\n",
      " 7   DIABETES        388878 non-null  int64\n",
      " 8   COPD            388878 non-null  int64\n",
      " 9   ASTHMA          388878 non-null  int64\n",
      " 10  INMSUPR         388878 non-null  int64\n",
      " 11  HIPERTENSION    388878 non-null  int64\n",
      " 12  OTHER_DISEASE   388878 non-null  int64\n",
      " 13  CARDIOVASCULAR  388878 non-null  int64\n",
      " 14  OBESITY         388878 non-null  int64\n",
      " 15  RENAL_CHRONIC   388878 non-null  int64\n",
      " 16  TOBACCO         388878 non-null  int64\n",
      " 17  AT_RISK         388878 non-null  int64\n",
      "dtypes: int64(18)\n",
      "memory usage: 56.4 MB\n",
      "None\n"
     ]
    }
   ],
   "source": [
    "print(covid.info())"
   ]
  },
  {
   "cell_type": "markdown",
   "id": "52cc8428",
   "metadata": {
    "papermill": {
     "duration": 0.013639,
     "end_time": "2022-11-16T12:44:59.983795",
     "exception": false,
     "start_time": "2022-11-16T12:44:59.970156",
     "status": "completed"
    },
    "tags": []
   },
   "source": [
    "split the data to train(90%), validation(5%) and test(5%)"
   ]
  },
  {
   "cell_type": "code",
   "execution_count": 7,
   "id": "0d8afbf5",
   "metadata": {
    "execution": {
     "iopub.execute_input": "2022-11-16T12:45:00.013838Z",
     "iopub.status.busy": "2022-11-16T12:45:00.013392Z",
     "iopub.status.idle": "2022-11-16T12:45:00.102387Z",
     "shell.execute_reply": "2022-11-16T12:45:00.101268Z"
    },
    "papermill": {
     "duration": 0.107462,
     "end_time": "2022-11-16T12:45:00.105267",
     "exception": false,
     "start_time": "2022-11-16T12:44:59.997805",
     "status": "completed"
    },
    "tags": []
   },
   "outputs": [],
   "source": [
    "train, validation = train_test_split(covid, test_size=0.1, shuffle=True)\n",
    "validation, test = train_test_split(validation, test_size=0.5, shuffle=True)\n",
    "\n",
    "validation_y = validation.AT_RISK.to_numpy()\n",
    "validation_x = validation.drop(columns = ['AT_RISK']).to_numpy()\n",
    "\n",
    "test_y = test.AT_RISK.to_numpy()\n",
    "test_x = test.drop(columns = ['AT_RISK']).to_numpy()"
   ]
  },
  {
   "cell_type": "markdown",
   "id": "be313084",
   "metadata": {
    "id": "S1Y2BM7cScfk",
    "papermill": {
     "duration": 0.013481,
     "end_time": "2022-11-16T12:45:00.133336",
     "exception": false,
     "start_time": "2022-11-16T12:45:00.119855",
     "status": "completed"
    },
    "tags": []
   },
   "source": [
    "### Calculate results\n",
    "function that returns F-measure (F1-score) for given data and labels"
   ]
  },
  {
   "cell_type": "code",
   "execution_count": 8,
   "id": "29ec9a1d",
   "metadata": {
    "execution": {
     "iopub.execute_input": "2022-11-16T12:45:00.162779Z",
     "iopub.status.busy": "2022-11-16T12:45:00.162363Z",
     "iopub.status.idle": "2022-11-16T12:45:00.169960Z",
     "shell.execute_reply": "2022-11-16T12:45:00.168866Z"
    },
    "id": "CYgEuLuQSdJa",
    "papermill": {
     "duration": 0.02499,
     "end_time": "2022-11-16T12:45:00.172181",
     "exception": false,
     "start_time": "2022-11-16T12:45:00.147191",
     "status": "completed"
    },
    "tags": []
   },
   "outputs": [],
   "source": [
    "def get_Fmeasure(prediction, labels):\n",
    "\n",
    "  # Compares the prediction of each object to its label\n",
    "  true_positive = np.sum((prediction + labels) == 2)\n",
    "  false_positive = np.sum((labels - prediction) == -1)\n",
    "  false_negative = np.sum((prediction - labels) == -1)\n",
    "  positive = np.count_nonzero(labels == 1)\n",
    "  negative = len(labels)-positive\n",
    "\n",
    "  # Calculate F-measure\n",
    "  accuracy = 100*np.sum(prediction == labels)/len(labels)\n",
    "  recall = true_positive / (true_positive + false_negative)\n",
    "  precision = true_positive / (true_positive + false_positive)\n",
    "  eval = 2*(precision * recall) / (precision + recall)\n",
    "  return eval"
   ]
  },
  {
   "cell_type": "markdown",
   "id": "43db54b1",
   "metadata": {
    "id": "WhdeGzNxdUgx",
    "papermill": {
     "duration": 0.013494,
     "end_time": "2022-11-16T12:45:00.199602",
     "exception": false,
     "start_time": "2022-11-16T12:45:00.186108",
     "status": "completed"
    },
    "tags": []
   },
   "source": [
    "---\n",
    "<a id='section3'></a>\n",
    "## 3. K-Nearest Neighbors\n",
    "The K-Nearest Neighbours is non-linear classifier in which an object is classified to the class most common among its k nearest neighbours in the train set. The hyperparameters for the KNN algorithm are the value of k and the distance function that calculates the distance between two objects. "
   ]
  },
  {
   "cell_type": "markdown",
   "id": "1c18ced4",
   "metadata": {
    "papermill": {
     "duration": 0.013615,
     "end_time": "2022-11-16T12:45:00.226993",
     "exception": false,
     "start_time": "2022-11-16T12:45:00.213378",
     "status": "completed"
    },
    "tags": []
   },
   "source": [
    "Build KNN model"
   ]
  },
  {
   "cell_type": "code",
   "execution_count": 9,
   "id": "200b6a16",
   "metadata": {
    "execution": {
     "iopub.execute_input": "2022-11-16T12:45:00.257313Z",
     "iopub.status.busy": "2022-11-16T12:45:00.256822Z",
     "iopub.status.idle": "2022-11-16T12:45:00.268935Z",
     "shell.execute_reply": "2022-11-16T12:45:00.267668Z"
    },
    "papermill": {
     "duration": 0.030217,
     "end_time": "2022-11-16T12:45:00.271397",
     "exception": false,
     "start_time": "2022-11-16T12:45:00.241180",
     "status": "completed"
    },
    "tags": []
   },
   "outputs": [],
   "source": [
    "class KNearestNeighbor(object):\n",
    "    \"\"\" a kNN classifier with several distance function\"\"\"\n",
    "\n",
    "    def __init__(self):\n",
    "        pass\n",
    "\n",
    "    def train(self, X, y):\n",
    "\n",
    "        self.X_train = X\n",
    "        self.y_train = y\n",
    "\n",
    "    def predict(self, X, k=1, dist_func=\"l2\"):\n",
    "        self.k = k\n",
    "        self.dist_f = dist_func\n",
    "\n",
    "        num_test = X.shape[0]\n",
    "        num_train = self.X_train.shape[0]\n",
    "        dists = np.zeros((num_test, num_train))\n",
    "\n",
    "        # calculate the distance matrix according to the distance function\n",
    "        if dist_func == \"l2\":\n",
    "            dists = scipy.spatial.distance_matrix(X, self.X_train)\n",
    "        elif dist_func == \"l1\":\n",
    "            dists = scipy.spatial.distance_matrix(X, self.X_train, p=1)\n",
    "        elif dist_func == \"linf\":\n",
    "            dists = scipy.spatial.distance_matrix(X, self.X_train, p=np.inf)\n",
    "        else:\n",
    "            raise ValueError('Invalid value %d for dist_func' % dist_func)\n",
    "        \n",
    "        # calculate prediction on X\n",
    "        num_test = dists.shape[0]\n",
    "        y_pred = np.zeros(num_test)\n",
    "        for i in range(num_test):\n",
    "            closest_y = []\n",
    "            k_nearest_idxs = np.argsort(dists[i, :])[:k]\n",
    "            closest_y = self.y_train[k_nearest_idxs]\n",
    "            y_pred[i] = np.argmax(np.bincount(closest_y))\n",
    "        return y_pred\n",
    "\n",
    "    def getK(self):\n",
    "        return self.k\n",
    "\n",
    "    def get_func(self):\n",
    "        return self.dist_f"
   ]
  },
  {
   "cell_type": "markdown",
   "id": "45f3a241",
   "metadata": {
    "papermill": {
     "duration": 0.0136,
     "end_time": "2022-11-16T12:45:00.299026",
     "exception": false,
     "start_time": "2022-11-16T12:45:00.285426",
     "status": "completed"
    },
    "tags": []
   },
   "source": [
    "Undersampling the train set"
   ]
  },
  {
   "cell_type": "code",
   "execution_count": 10,
   "id": "150434bb",
   "metadata": {
    "execution": {
     "iopub.execute_input": "2022-11-16T12:45:00.328441Z",
     "iopub.status.busy": "2022-11-16T12:45:00.328020Z",
     "iopub.status.idle": "2022-11-16T12:45:00.374580Z",
     "shell.execute_reply": "2022-11-16T12:45:00.373356Z"
    },
    "papermill": {
     "duration": 0.064321,
     "end_time": "2022-11-16T12:45:00.377162",
     "exception": false,
     "start_time": "2022-11-16T12:45:00.312841",
     "status": "completed"
    },
    "tags": []
   },
   "outputs": [],
   "source": [
    "atrisk = train[train.AT_RISK==1][:2000]\n",
    "nonrisk = train[train.AT_RISK==0][:2000]\n",
    "part_train = pd.concat([nonrisk, atrisk])\n",
    "train_y = part_train.AT_RISK.to_numpy()\n",
    "train_x = part_train.drop(columns = ['AT_RISK']).to_numpy()"
   ]
  },
  {
   "cell_type": "markdown",
   "id": "f79646f7",
   "metadata": {
    "papermill": {
     "duration": 0.013963,
     "end_time": "2022-11-16T12:45:00.405715",
     "exception": false,
     "start_time": "2022-11-16T12:45:00.391752",
     "status": "completed"
    },
    "tags": []
   },
   "source": [
    "set optional knn hyperparameters"
   ]
  },
  {
   "cell_type": "code",
   "execution_count": 11,
   "id": "46d3f0b1",
   "metadata": {
    "execution": {
     "iopub.execute_input": "2022-11-16T12:45:00.435894Z",
     "iopub.status.busy": "2022-11-16T12:45:00.435426Z",
     "iopub.status.idle": "2022-11-16T12:47:38.060589Z",
     "shell.execute_reply": "2022-11-16T12:47:38.059228Z"
    },
    "id": "QlktYiq0dZVV",
    "papermill": {
     "duration": 157.643393,
     "end_time": "2022-11-16T12:47:38.063623",
     "exception": false,
     "start_time": "2022-11-16T12:45:00.420230",
     "status": "completed"
    },
    "tags": []
   },
   "outputs": [],
   "source": [
    "k_choices = [1, 5, 13, 23, 31]\n",
    "dist_func = [\"l1\", \"l2\", \"linf\"]\n",
    "knn_fmeasures = {}\n",
    "knn_best_result = 0\n",
    "\n",
    "for k in k_choices:\n",
    "    knn_fmeasures[k] = np.zeros(len(dist_func))\n",
    "    for (i, func) in enumerate(dist_func):\n",
    "        # create a kNN classifier instance and compute the prediction\n",
    "        knn_classifier = KNearestNeighbor()\n",
    "        knn_classifier.train(train_x, train_y)\n",
    "        pred_y = knn_classifier.predict(validation_x, k=k, dist_func=func) \n",
    "\n",
    "        # calculate F-measures and save best model\n",
    "        knn_fmeasures[k][i] = get_Fmeasure(pred_y, validation_y)\n",
    "        if knn_fmeasures[k][i] > knn_best_result:\n",
    "            knn_best_result = knn_fmeasures[k][i]\n",
    "            knn_best_model = knn_classifier"
   ]
  },
  {
   "cell_type": "markdown",
   "id": "67c47552",
   "metadata": {
    "papermill": {
     "duration": 0.013895,
     "end_time": "2022-11-16T12:47:38.092177",
     "exception": false,
     "start_time": "2022-11-16T12:47:38.078282",
     "status": "completed"
    },
    "tags": []
   },
   "source": [
    "plot the results"
   ]
  },
  {
   "cell_type": "code",
   "execution_count": 12,
   "id": "90b94c75",
   "metadata": {
    "execution": {
     "iopub.execute_input": "2022-11-16T12:47:38.122215Z",
     "iopub.status.busy": "2022-11-16T12:47:38.121820Z",
     "iopub.status.idle": "2022-11-16T12:47:38.434901Z",
     "shell.execute_reply": "2022-11-16T12:47:38.433554Z"
    },
    "id": "1i-jFQ6jxls7",
    "outputId": "1198db8b-d71f-4e9c-a58f-33cb15217c4f",
    "papermill": {
     "duration": 0.3317,
     "end_time": "2022-11-16T12:47:38.438030",
     "exception": false,
     "start_time": "2022-11-16T12:47:38.106330",
     "status": "completed"
    },
    "tags": []
   },
   "outputs": [
    {
     "data": {
      "image/png": "[encoded data removed]",
      "text/plain": [
       "<Figure size 432x288 with 1 Axes>"
      ]
     },
     "metadata": {
      "needs_background": "light"
     },
     "output_type": "display_data"
    }
   ],
   "source": [
    "l1, l2, linf = [], [], []\n",
    "for k in k_choices:\n",
    "    fmeasures = knn_fmeasures[k]\n",
    "    plt.scatter([k] * len(fmeasures), fmeasures)\n",
    "    l1.append(knn_fmeasures[k][0])\n",
    "    l2.append(knn_fmeasures[k][1])\n",
    "    linf.append(knn_fmeasures[k][2])\n",
    "\n",
    "# create line between all k values for each distance function\n",
    "plt.errorbar(k_choices, l1, label ='L1')\n",
    "plt.errorbar(k_choices, l2, label ='L2')\n",
    "plt.errorbar(k_choices, linf, label ='Linf')\n",
    "plt.legend(loc ='lower right')\n",
    "\n",
    "plt.title('K-NN Comparison')\n",
    "plt.xlabel('k values')\n",
    "plt.ylabel('F-measure')\n",
    "plt.ylim(0.3, 0.7)\n",
    "plt.show()"
   ]
  },
  {
   "cell_type": "markdown",
   "id": "55029c87",
   "metadata": {
    "papermill": {
     "duration": 0.014113,
     "end_time": "2022-11-16T12:47:38.466922",
     "exception": false,
     "start_time": "2022-11-16T12:47:38.452809",
     "status": "completed"
    },
    "tags": []
   },
   "source": [
    "print best model parameters"
   ]
  },
  {
   "cell_type": "code",
   "execution_count": 13,
   "id": "f45cdb9b",
   "metadata": {
    "execution": {
     "iopub.execute_input": "2022-11-16T12:47:38.497583Z",
     "iopub.status.busy": "2022-11-16T12:47:38.497171Z",
     "iopub.status.idle": "2022-11-16T12:47:38.503670Z",
     "shell.execute_reply": "2022-11-16T12:47:38.502302Z"
    },
    "papermill": {
     "duration": 0.025167,
     "end_time": "2022-11-16T12:47:38.506386",
     "exception": false,
     "start_time": "2022-11-16T12:47:38.481219",
     "status": "completed"
    },
    "tags": []
   },
   "outputs": [
    {
     "name": "stdout",
     "output_type": "stream",
     "text": [
      "best result for: k = 13, distance function = l1, F-measure = 0.648496\n"
     ]
    }
   ],
   "source": [
    "print('best result for: k = %d, distance function = %s, F-measure = %f' % (knn_best_model.getK(), knn_best_model.get_func(), knn_best_result))"
   ]
  },
  {
   "cell_type": "markdown",
   "id": "044ba69d",
   "metadata": {
    "id": "qauojYeCD1Pw",
    "papermill": {
     "duration": 0.014436,
     "end_time": "2022-11-16T12:47:38.535673",
     "exception": false,
     "start_time": "2022-11-16T12:47:38.521237",
     "status": "completed"
    },
    "tags": []
   },
   "source": [
    "---\n",
    "<a id='section4'></a>\n",
    "## 4. SVM\n",
    "SVM is a classifier that separates data points using a linear hyperplane with the largest amount of margin between the two classes in the train set. SVM can efficiently perform a non-linear classification using what is called the kernel trick, implicitly mapping the inputs into high-dimensional feature spaces."
   ]
  },
  {
   "cell_type": "markdown",
   "id": "5bb59391",
   "metadata": {
    "papermill": {
     "duration": 0.01415,
     "end_time": "2022-11-16T12:47:38.564540",
     "exception": false,
     "start_time": "2022-11-16T12:47:38.550390",
     "status": "completed"
    },
    "tags": []
   },
   "source": [
    "split the data to x and y"
   ]
  },
  {
   "cell_type": "code",
   "execution_count": 14,
   "id": "a2ac124a",
   "metadata": {
    "execution": {
     "iopub.execute_input": "2022-11-16T12:47:38.596171Z",
     "iopub.status.busy": "2022-11-16T12:47:38.594850Z",
     "iopub.status.idle": "2022-11-16T12:47:38.676696Z",
     "shell.execute_reply": "2022-11-16T12:47:38.675272Z"
    },
    "papermill": {
     "duration": 0.100632,
     "end_time": "2022-11-16T12:47:38.679640",
     "exception": false,
     "start_time": "2022-11-16T12:47:38.579008",
     "status": "completed"
    },
    "tags": []
   },
   "outputs": [],
   "source": [
    "part_train, _ = train_test_split(train, test_size=0.9, shuffle=True)\n",
    "train_y = part_train.AT_RISK.to_numpy()\n",
    "train_x = part_train.drop(columns = ['AT_RISK']).to_numpy()"
   ]
  },
  {
   "cell_type": "markdown",
   "id": "34e06154",
   "metadata": {
    "papermill": {
     "duration": 0.014842,
     "end_time": "2022-11-16T12:47:38.709604",
     "exception": false,
     "start_time": "2022-11-16T12:47:38.694762",
     "status": "completed"
    },
    "tags": []
   },
   "source": [
    "set all SVM kernel options"
   ]
  },
  {
   "cell_type": "code",
   "execution_count": 15,
   "id": "cc436fc3",
   "metadata": {
    "execution": {
     "iopub.execute_input": "2022-11-16T12:47:38.741810Z",
     "iopub.status.busy": "2022-11-16T12:47:38.740626Z",
     "iopub.status.idle": "2022-11-16T12:52:06.135400Z",
     "shell.execute_reply": "2022-11-16T12:52:06.134176Z"
    },
    "id": "d81-bmCSD1qI",
    "papermill": {
     "duration": 267.413722,
     "end_time": "2022-11-16T12:52:06.138126",
     "exception": false,
     "start_time": "2022-11-16T12:47:38.724404",
     "status": "completed"
    },
    "tags": []
   },
   "outputs": [],
   "source": [
    "kernels = [\"linear\", \"poly\", \"rbf\"]\n",
    "svm_fmeasures = {}\n",
    "svm_best_result = 0\n",
    "\n",
    "for kernel in kernels:\n",
    "    # create a SVM classifier instance and compute the prediction\n",
    "    svm_classifier = SVC(kernel=kernel, degree=8, class_weight='balanced')\n",
    "    svm_classifier.fit(train_x, train_y)\n",
    "    y_pred = svm_classifier.predict(validation_x)\n",
    "\n",
    "    # calculate F-measures and save best model\n",
    "    svm_fmeasures[kernel] = get_Fmeasure(y_pred, validation_y)\n",
    "    if svm_fmeasures[kernel] > svm_best_result:\n",
    "        svm_best_result = svm_fmeasures[kernel]\n",
    "        svm_best_model = svm_classifier"
   ]
  },
  {
   "cell_type": "markdown",
   "id": "f0f395a7",
   "metadata": {
    "papermill": {
     "duration": 0.014242,
     "end_time": "2022-11-16T12:52:06.167719",
     "exception": false,
     "start_time": "2022-11-16T12:52:06.153477",
     "status": "completed"
    },
    "tags": []
   },
   "source": [
    "plot all the results"
   ]
  },
  {
   "cell_type": "code",
   "execution_count": 16,
   "id": "dc6f6385",
   "metadata": {
    "execution": {
     "iopub.execute_input": "2022-11-16T12:52:06.199749Z",
     "iopub.status.busy": "2022-11-16T12:52:06.199074Z",
     "iopub.status.idle": "2022-11-16T12:52:06.392229Z",
     "shell.execute_reply": "2022-11-16T12:52:06.391046Z"
    },
    "id": "BB0EHhiM46BR",
    "outputId": "ed3ecd6e-fd01-4fe3-dfc7-6a1fc36d0445",
    "papermill": {
     "duration": 0.213425,
     "end_time": "2022-11-16T12:52:06.396087",
     "exception": false,
     "start_time": "2022-11-16T12:52:06.182662",
     "status": "completed"
    },
    "tags": []
   },
   "outputs": [
    {
     "data": {
      "image/png": "[encoded data removed]",
      "text/plain": [
       "<Figure size 432x288 with 1 Axes>"
      ]
     },
     "metadata": {
      "needs_background": "light"
     },
     "output_type": "display_data"
    }
   ],
   "source": [
    "plt.bar(svm_fmeasures.keys(), svm_fmeasures.values(), color=['blue', 'orange', 'green', 'red'], width=.6)\n",
    "plt.title('SVM kernels comparison - undersampling')\n",
    "plt.xlabel('kernels')\n",
    "plt.ylabel('F-measure')\n",
    "plt.ylim(0.5, 0.7)\n",
    "plt.show()"
   ]
  },
  {
   "cell_type": "markdown",
   "id": "3066e20a",
   "metadata": {
    "papermill": {
     "duration": 0.014584,
     "end_time": "2022-11-16T12:52:06.427230",
     "exception": false,
     "start_time": "2022-11-16T12:52:06.412646",
     "status": "completed"
    },
    "tags": []
   },
   "source": [
    "print best model parameters"
   ]
  },
  {
   "cell_type": "code",
   "execution_count": 17,
   "id": "d1bac872",
   "metadata": {
    "execution": {
     "iopub.execute_input": "2022-11-16T12:52:06.459718Z",
     "iopub.status.busy": "2022-11-16T12:52:06.459266Z",
     "iopub.status.idle": "2022-11-16T12:52:06.465514Z",
     "shell.execute_reply": "2022-11-16T12:52:06.464253Z"
    },
    "papermill": {
     "duration": 0.025433,
     "end_time": "2022-11-16T12:52:06.467865",
     "exception": false,
     "start_time": "2022-11-16T12:52:06.442432",
     "status": "completed"
    },
    "tags": []
   },
   "outputs": [
    {
     "name": "stdout",
     "output_type": "stream",
     "text": [
      "best result for: kernel = rbf, F-measure = 0.650412\n"
     ]
    }
   ],
   "source": [
    "print('best result for: kernel = %s, F-measure = %f' % (svm_best_model.get_params()['kernel'], svm_best_result))"
   ]
  },
  {
   "cell_type": "markdown",
   "id": "44022697",
   "metadata": {
    "id": "gcA3nIBobZtW",
    "papermill": {
     "duration": 0.014735,
     "end_time": "2022-11-16T12:52:06.498141",
     "exception": false,
     "start_time": "2022-11-16T12:52:06.483406",
     "status": "completed"
    },
    "tags": []
   },
   "source": [
    "---\n",
    "<a id='section5'></a>\n",
    "## 5. Decision Tree\n",
    "A decision tree is a flowchart-like structure in which each internal node represents a \"test\" on a feature, each branch represents the outcome of the test, and each leaf node represents a class label. The paths from root to leaf represent classification rules. The decision tree algorithm uses heuristic functions for selecting the splitting criterion that partition data into the best possible manner."
   ]
  },
  {
   "cell_type": "markdown",
   "id": "9a71b6d2",
   "metadata": {
    "papermill": {
     "duration": 0.014638,
     "end_time": "2022-11-16T12:52:06.527731",
     "exception": false,
     "start_time": "2022-11-16T12:52:06.513093",
     "status": "completed"
    },
    "tags": []
   },
   "source": [
    "undersampling the train set"
   ]
  },
  {
   "cell_type": "code",
   "execution_count": 18,
   "id": "e896d300",
   "metadata": {
    "execution": {
     "iopub.execute_input": "2022-11-16T12:52:06.559931Z",
     "iopub.status.busy": "2022-11-16T12:52:06.558632Z",
     "iopub.status.idle": "2022-11-16T12:52:06.582361Z",
     "shell.execute_reply": "2022-11-16T12:52:06.581328Z"
    },
    "papermill": {
     "duration": 0.043209,
     "end_time": "2022-11-16T12:52:06.585654",
     "exception": false,
     "start_time": "2022-11-16T12:52:06.542445",
     "status": "completed"
    },
    "tags": []
   },
   "outputs": [],
   "source": [
    "train_y = train.AT_RISK.to_numpy()\n",
    "train_x = train.drop(columns = ['AT_RISK']).to_numpy()"
   ]
  },
  {
   "cell_type": "markdown",
   "id": "31b7a2f5",
   "metadata": {
    "papermill": {
     "duration": 0.018055,
     "end_time": "2022-11-16T12:52:06.620438",
     "exception": false,
     "start_time": "2022-11-16T12:52:06.602383",
     "status": "completed"
    },
    "tags": []
   },
   "source": [
    "set Decision Tree parameters"
   ]
  },
  {
   "cell_type": "code",
   "execution_count": 19,
   "id": "1714da4b",
   "metadata": {
    "execution": {
     "iopub.execute_input": "2022-11-16T12:52:06.658530Z",
     "iopub.status.busy": "2022-11-16T12:52:06.658115Z",
     "iopub.status.idle": "2022-11-16T12:52:32.673212Z",
     "shell.execute_reply": "2022-11-16T12:52:32.672140Z"
    },
    "id": "MSkPbMTzbaJR",
    "papermill": {
     "duration": 26.034373,
     "end_time": "2022-11-16T12:52:32.675760",
     "exception": false,
     "start_time": "2022-11-16T12:52:06.641387",
     "status": "completed"
    },
    "tags": []
   },
   "outputs": [],
   "source": [
    "heuristics = [\"entropy\", \"gini\"]\n",
    "splitters = [\"best\", \"random\"]\n",
    "max_depth = [5, 7, 11, 13, 17]\n",
    "dt_fmeasures = {}\n",
    "dt_best_result = 0\n",
    "\n",
    "for d in max_depth:\n",
    "    dt_fmeasures[d] = np.zeros(len(heuristics)*len(splitters))\n",
    "    i=0\n",
    "    for heuristic, splitter in [(heuristic, splitter) for heuristic in heuristics for splitter in splitters]:\n",
    "        # create a Decision Tree classifier instance and compute the prediction\n",
    "        dt_classifier = DecisionTreeClassifier(criterion=heuristic, splitter=splitter, max_depth=d, class_weight='balanced')\n",
    "        dt_classifier.fit(train_x, train_y)\n",
    "        y_pred = dt_classifier.predict(validation_x)\n",
    "\n",
    "        # calculate F-measures and save best model\n",
    "        dt_fmeasures[d][i] = get_Fmeasure(y_pred, validation_y)\n",
    "        if dt_fmeasures[d][i] > dt_best_result:\n",
    "            dt_best_result = dt_fmeasures[d][i]\n",
    "            dt_best_model = dt_classifier\n",
    "        i=i+1"
   ]
  },
  {
   "cell_type": "markdown",
   "id": "8dc2478c",
   "metadata": {
    "papermill": {
     "duration": 0.014733,
     "end_time": "2022-11-16T12:52:32.706279",
     "exception": false,
     "start_time": "2022-11-16T12:52:32.691546",
     "status": "completed"
    },
    "tags": []
   },
   "source": [
    "plot the results"
   ]
  },
  {
   "cell_type": "code",
   "execution_count": 20,
   "id": "e09cc6f8",
   "metadata": {
    "execution": {
     "iopub.execute_input": "2022-11-16T12:52:32.738761Z",
     "iopub.status.busy": "2022-11-16T12:52:32.737607Z",
     "iopub.status.idle": "2022-11-16T12:52:33.016587Z",
     "shell.execute_reply": "2022-11-16T12:52:33.015737Z"
    },
    "id": "pHifyhTtdeiL",
    "outputId": "396ef440-4903-4388-9f4c-c0f2095c8306",
    "papermill": {
     "duration": 0.297671,
     "end_time": "2022-11-16T12:52:33.018947",
     "exception": false,
     "start_time": "2022-11-16T12:52:32.721276",
     "status": "completed"
    },
    "tags": []
   },
   "outputs": [
    {
     "data": {
      "image/png": "[encoded data removed]",
      "text/plain": [
       "<Figure size 432x288 with 1 Axes>"
      ]
     },
     "metadata": {
      "needs_background": "light"
     },
     "output_type": "display_data"
    }
   ],
   "source": [
    "l1, l2, l3, l4 = [], [], [], []\n",
    "for k in dt_fmeasures.keys():\n",
    "    fmeasures = dt_fmeasures[k]\n",
    "    plt.scatter([k] * len(fmeasures), fmeasures)\n",
    "    l1.append(dt_fmeasures[k][0])\n",
    "    l2.append(dt_fmeasures[k][1])\n",
    "    l3.append(dt_fmeasures[k][2])\n",
    "    l4.append(dt_fmeasures[k][3])\n",
    "\n",
    "# create line for each of the four models\n",
    "plt.errorbar(max_depth, l1, label ='id3 best')\n",
    "plt.errorbar(max_depth, l2, label ='id3 random')\n",
    "plt.errorbar(max_depth, l3, label ='gini best')\n",
    "plt.errorbar(max_depth, l4, label ='gini random')\n",
    "plt.legend(loc ='lower right')\n",
    "plt.title('Decision Trees values comparison')\n",
    "plt.xlabel('Tree Depth')\n",
    "plt.ylabel('F-Measure')\n",
    "plt.ylim(0.630, 0.6765)\n",
    "plt.show()"
   ]
  },
  {
   "cell_type": "markdown",
   "id": "d379d749",
   "metadata": {
    "papermill": {
     "duration": 0.015076,
     "end_time": "2022-11-16T12:52:33.049616",
     "exception": false,
     "start_time": "2022-11-16T12:52:33.034540",
     "status": "completed"
    },
    "tags": []
   },
   "source": [
    "print best model parameters"
   ]
  },
  {
   "cell_type": "code",
   "execution_count": 21,
   "id": "c2655842",
   "metadata": {
    "execution": {
     "iopub.execute_input": "2022-11-16T12:52:33.082724Z",
     "iopub.status.busy": "2022-11-16T12:52:33.081624Z",
     "iopub.status.idle": "2022-11-16T12:52:33.088743Z",
     "shell.execute_reply": "2022-11-16T12:52:33.087158Z"
    },
    "papermill": {
     "duration": 0.026417,
     "end_time": "2022-11-16T12:52:33.091354",
     "exception": false,
     "start_time": "2022-11-16T12:52:33.064937",
     "status": "completed"
    },
    "tags": []
   },
   "outputs": [
    {
     "name": "stdout",
     "output_type": "stream",
     "text": [
      "best result for: heuristic = entropy, splitter = random, max depth = 11, F-measure = 0.663300\n"
     ]
    }
   ],
   "source": [
    "params = dt_best_model.get_params()\n",
    "print('best result for: heuristic = %s, splitter = %s, max depth = %d, F-measure = %f' % (params['criterion'], params['splitter'], params['max_depth'], dt_best_result))"
   ]
  },
  {
   "cell_type": "markdown",
   "id": "d12199ae",
   "metadata": {
    "id": "qM4ggOa8lNAv",
    "papermill": {
     "duration": 0.015826,
     "end_time": "2022-11-16T12:52:33.122999",
     "exception": false,
     "start_time": "2022-11-16T12:52:33.107173",
     "status": "completed"
    },
    "tags": []
   },
   "source": [
    "---\n",
    "<a id='section6'></a>\n",
    "## 6. Random Forest\n",
    "Random forests constructs multitude decision trees at training time. For classification tasks, the output of the random forest is the class selected by most trees. Random forests generally outperform decision trees"
   ]
  },
  {
   "cell_type": "markdown",
   "id": "6c6cc864",
   "metadata": {
    "papermill": {
     "duration": 0.016227,
     "end_time": "2022-11-16T12:52:33.155003",
     "exception": false,
     "start_time": "2022-11-16T12:52:33.138776",
     "status": "completed"
    },
    "tags": []
   },
   "source": [
    "undersampling the train set"
   ]
  },
  {
   "cell_type": "code",
   "execution_count": 22,
   "id": "71396d9a",
   "metadata": {
    "execution": {
     "iopub.execute_input": "2022-11-16T12:52:33.188761Z",
     "iopub.status.busy": "2022-11-16T12:52:33.187895Z",
     "iopub.status.idle": "2022-11-16T12:52:33.211197Z",
     "shell.execute_reply": "2022-11-16T12:52:33.210183Z"
    },
    "papermill": {
     "duration": 0.043012,
     "end_time": "2022-11-16T12:52:33.213875",
     "exception": false,
     "start_time": "2022-11-16T12:52:33.170863",
     "status": "completed"
    },
    "tags": []
   },
   "outputs": [],
   "source": [
    "train_y = train.AT_RISK.to_numpy()\n",
    "train_x = train.drop(columns = ['AT_RISK']).to_numpy()"
   ]
  },
  {
   "cell_type": "markdown",
   "id": "289ad7a8",
   "metadata": {
    "papermill": {
     "duration": 0.015316,
     "end_time": "2022-11-16T12:52:33.245223",
     "exception": false,
     "start_time": "2022-11-16T12:52:33.229907",
     "status": "completed"
    },
    "tags": []
   },
   "source": [
    "set Random Forest parameters"
   ]
  },
  {
   "cell_type": "code",
   "execution_count": 23,
   "id": "bf8b3c8e",
   "metadata": {
    "execution": {
     "iopub.execute_input": "2022-11-16T12:52:33.279064Z",
     "iopub.status.busy": "2022-11-16T12:52:33.278338Z",
     "iopub.status.idle": "2022-11-16T12:57:10.942720Z",
     "shell.execute_reply": "2022-11-16T12:57:10.941739Z"
    },
    "id": "iAAbmVQIlI1n",
    "papermill": {
     "duration": 277.684529,
     "end_time": "2022-11-16T12:57:10.945399",
     "exception": false,
     "start_time": "2022-11-16T12:52:33.260870",
     "status": "completed"
    },
    "tags": []
   },
   "outputs": [],
   "source": [
    "heuristics = [\"entropy\", \"gini\"]\n",
    "max_depth = [5, 11, 13, 17]\n",
    "rf_fmeasures = {}\n",
    "rf_best_result = 0\n",
    "for d in max_depth:\n",
    "    rf_fmeasures[d] = np.zeros(len(heuristics))\n",
    "    for (i, heuristic) in enumerate(heuristics):\n",
    "        # create a Random Forest classifier instance and compute the prediction\n",
    "        rf_classifier = RandomForestClassifier(n_estimators=100, \n",
    "                                               criterion=heuristic, \n",
    "                                               max_depth=d,  \n",
    "                                               class_weight='balanced')\n",
    "        rf_classifier.fit(train_x, train_y)\n",
    "        y_pred = rf_classifier.predict(validation_x)\n",
    "\n",
    "        # calculate F-measures and save best model\n",
    "        rf_fmeasures[d][i] = get_Fmeasure(y_pred, validation_y)\n",
    "        if rf_fmeasures[d][i] > rf_best_result:\n",
    "            rf_best_result = rf_fmeasures[d][i]\n",
    "            rf_best_model = rf_classifier   "
   ]
  },
  {
   "cell_type": "markdown",
   "id": "83096b42",
   "metadata": {
    "papermill": {
     "duration": 0.015006,
     "end_time": "2022-11-16T12:57:10.976208",
     "exception": false,
     "start_time": "2022-11-16T12:57:10.961202",
     "status": "completed"
    },
    "tags": []
   },
   "source": [
    "plot the results"
   ]
  },
  {
   "cell_type": "code",
   "execution_count": 24,
   "id": "6dc860c6",
   "metadata": {
    "execution": {
     "iopub.execute_input": "2022-11-16T12:57:11.008704Z",
     "iopub.status.busy": "2022-11-16T12:57:11.008287Z",
     "iopub.status.idle": "2022-11-16T12:57:11.257867Z",
     "shell.execute_reply": "2022-11-16T12:57:11.256586Z"
    },
    "id": "IuHk0si2lMBV",
    "outputId": "2d498b1a-d600-414b-ca77-3324a045a0a1",
    "papermill": {
     "duration": 0.26881,
     "end_time": "2022-11-16T12:57:11.260347",
     "exception": false,
     "start_time": "2022-11-16T12:57:10.991537",
     "status": "completed"
    },
    "tags": []
   },
   "outputs": [
    {
     "data": {
      "image/png": "[encoded data removed]",
      "text/plain": [
       "<Figure size 432x288 with 1 Axes>"
      ]
     },
     "metadata": {
      "needs_background": "light"
     },
     "output_type": "display_data"
    }
   ],
   "source": [
    "l1, l2 = [], []\n",
    "for k in rf_fmeasures.keys():\n",
    "    fmeasures = rf_fmeasures[k]\n",
    "    plt.scatter([k] * len(fmeasures), fmeasures)\n",
    "    l1.append(rf_fmeasures[k][0])\n",
    "    l2.append(rf_fmeasures[k][1])\n",
    "\n",
    "# create line for each  models\n",
    "plt.errorbar(max_depth, l1, label ='id3')\n",
    "plt.errorbar(max_depth, l2, label ='gini')\n",
    "plt.legend(loc ='lower right')\n",
    "plt.title('Random Forest values comparison')\n",
    "plt.xlabel('Tree Depth')\n",
    "plt.ylabel('F-Measure')\n",
    "plt.ylim(0.655, 0.68)\n",
    "plt.show()"
   ]
  },
  {
   "cell_type": "markdown",
   "id": "b13eb22d",
   "metadata": {
    "papermill": {
     "duration": 0.015201,
     "end_time": "2022-11-16T12:57:11.291297",
     "exception": false,
     "start_time": "2022-11-16T12:57:11.276096",
     "status": "completed"
    },
    "tags": []
   },
   "source": [
    "print best model parameters"
   ]
  },
  {
   "cell_type": "code",
   "execution_count": 25,
   "id": "59448caf",
   "metadata": {
    "execution": {
     "iopub.execute_input": "2022-11-16T12:57:11.324220Z",
     "iopub.status.busy": "2022-11-16T12:57:11.323844Z",
     "iopub.status.idle": "2022-11-16T12:57:11.329653Z",
     "shell.execute_reply": "2022-11-16T12:57:11.328580Z"
    },
    "papermill": {
     "duration": 0.025285,
     "end_time": "2022-11-16T12:57:11.332016",
     "exception": false,
     "start_time": "2022-11-16T12:57:11.306731",
     "status": "completed"
    },
    "tags": []
   },
   "outputs": [
    {
     "name": "stdout",
     "output_type": "stream",
     "text": [
      "best result for: heuristic = entropy, max depth = 13, F-measure = 0.667532\n"
     ]
    }
   ],
   "source": [
    "params = rf_best_model.get_params()\n",
    "print('best result for: heuristic = %s, max depth = %d, F-measure = %f' % (params['criterion'], params['max_depth'], rf_best_result))"
   ]
  },
  {
   "cell_type": "markdown",
   "id": "f50d9ee7",
   "metadata": {
    "id": "GGN4QWDRttff",
    "papermill": {
     "duration": 0.015334,
     "end_time": "2022-11-16T12:57:11.363006",
     "exception": false,
     "start_time": "2022-11-16T12:57:11.347672",
     "status": "completed"
    },
    "tags": []
   },
   "source": [
    "---\n",
    "<a id='section7'></a>\n",
    "## 7. Multilayer Perceptron\n",
    "An MLP model consists of at least three layers of nodes: an input layer, a hidden layer, and an output layer. Except for the input nodes, each node is a neuron that uses a nonlinear activation function. MLP utilizes a supervised learning technique called backpropagation for training."
   ]
  },
  {
   "cell_type": "markdown",
   "id": "a3f97086",
   "metadata": {
    "papermill": {
     "duration": 0.015419,
     "end_time": "2022-11-16T12:57:11.394135",
     "exception": false,
     "start_time": "2022-11-16T12:57:11.378716",
     "status": "completed"
    },
    "tags": []
   },
   "source": [
    "undersampling the train set"
   ]
  },
  {
   "cell_type": "code",
   "execution_count": 26,
   "id": "77a241a3",
   "metadata": {
    "execution": {
     "iopub.execute_input": "2022-11-16T12:57:11.427280Z",
     "iopub.status.busy": "2022-11-16T12:57:11.426916Z",
     "iopub.status.idle": "2022-11-16T12:57:11.483281Z",
     "shell.execute_reply": "2022-11-16T12:57:11.482159Z"
    },
    "papermill": {
     "duration": 0.076174,
     "end_time": "2022-11-16T12:57:11.486047",
     "exception": false,
     "start_time": "2022-11-16T12:57:11.409873",
     "status": "completed"
    },
    "tags": []
   },
   "outputs": [],
   "source": [
    "atrisk = train[train.AT_RISK==1][:20000]\n",
    "nonrisk = train[train.AT_RISK==0][:20000]\n",
    "part_train = (pd.concat([nonrisk, atrisk])).sample(frac = 1)\n",
    "train_y = part_train.AT_RISK.to_numpy()\n",
    "train_x = part_train.drop(columns = ['AT_RISK']).to_numpy()"
   ]
  },
  {
   "cell_type": "markdown",
   "id": "cc682288",
   "metadata": {
    "papermill": {
     "duration": 0.015273,
     "end_time": "2022-11-16T12:57:11.517078",
     "exception": false,
     "start_time": "2022-11-16T12:57:11.501805",
     "status": "completed"
    },
    "tags": []
   },
   "source": [
    "set MLP parameters"
   ]
  },
  {
   "cell_type": "code",
   "execution_count": 27,
   "id": "ab543d83",
   "metadata": {
    "execution": {
     "iopub.execute_input": "2022-11-16T12:57:11.550237Z",
     "iopub.status.busy": "2022-11-16T12:57:11.549851Z",
     "iopub.status.idle": "2022-11-16T13:07:29.957256Z",
     "shell.execute_reply": "2022-11-16T13:07:29.955005Z"
    },
    "id": "XnHKMDedt0tB",
    "papermill": {
     "duration": 618.429855,
     "end_time": "2022-11-16T13:07:29.962623",
     "exception": false,
     "start_time": "2022-11-16T12:57:11.532768",
     "status": "completed"
    },
    "tags": []
   },
   "outputs": [],
   "source": [
    "layers = [(100,50,30,10,5), (15,10,5,10,15), (20,20,20,20), (10)]\n",
    "optimizers = ['adam', 'sgd']\n",
    "mlp_fmeasures = {}\n",
    "mlp_best_result = 0\n",
    "\n",
    "for (i, opt) in  enumerate(optimizers):\n",
    "    mlp_fmeasures[i] = np.zeros(len(layers))\n",
    "    for (j, layer) in enumerate(layers):\n",
    "        # create a Logistic Regression classifier instance and compute the prediction\n",
    "        mlp_classifier = MLPClassifier(hidden_layer_sizes = layer,\n",
    "                                          solver = opt,\n",
    "                                          learning_rate ='adaptive',\n",
    "                                          max_iter = 500)\n",
    "        mlp_classifier.fit(train_x, train_y)\n",
    "        y_pred = mlp_classifier.predict(validation_x)\n",
    "\n",
    "        # calculate F-measures and save best model\n",
    "        mlp_fmeasures[i][j] = get_Fmeasure(y_pred, validation_y)\n",
    "        if mlp_fmeasures[i][j] > mlp_best_result:\n",
    "            mlp_best_result = mlp_fmeasures[i][j]\n",
    "            mlp_best_model = mlp_classifier"
   ]
  },
  {
   "cell_type": "markdown",
   "id": "184fdf84",
   "metadata": {
    "papermill": {
     "duration": 0.041201,
     "end_time": "2022-11-16T13:07:30.045827",
     "exception": false,
     "start_time": "2022-11-16T13:07:30.004626",
     "status": "completed"
    },
    "tags": []
   },
   "source": [
    "plot the results"
   ]
  },
  {
   "cell_type": "code",
   "execution_count": 28,
   "id": "ce10ef0d",
   "metadata": {
    "execution": {
     "iopub.execute_input": "2022-11-16T13:07:30.096845Z",
     "iopub.status.busy": "2022-11-16T13:07:30.096433Z",
     "iopub.status.idle": "2022-11-16T13:07:30.306556Z",
     "shell.execute_reply": "2022-11-16T13:07:30.305211Z"
    },
    "id": "bnedHuvx93nG",
    "outputId": "4167f814-10e9-4690-e81c-c7e8e508c6a4",
    "papermill": {
     "duration": 0.23041,
     "end_time": "2022-11-16T13:07:30.309271",
     "exception": false,
     "start_time": "2022-11-16T13:07:30.078861",
     "status": "completed"
    },
    "tags": []
   },
   "outputs": [
    {
     "data": {
      "image/png": "[encoded data removed]",
      "text/plain": [
       "<Figure size 432x288 with 1 Axes>"
      ]
     },
     "metadata": {
      "needs_background": "light"
     },
     "output_type": "display_data"
    }
   ],
   "source": [
    "width = 0\n",
    "for i in mlp_fmeasures.keys():\n",
    "    fmeasures = mlp_fmeasures[i]\n",
    "    plt.bar(np.arange(len(fmeasures))+width, fmeasures, width=0.3, label=optimizers[i])\n",
    "    width += 0.3\n",
    "\n",
    "plt.xticks(range(len(layers)), layers)\n",
    "plt.legend(loc ='upper center')\n",
    "plt.title('MLP values comparison')\n",
    "plt.xlabel('Layer architecture')\n",
    "plt.ylabel('F-Measure')\n",
    "plt.ylim(0.64, 0.69)\n",
    "plt.show()"
   ]
  },
  {
   "cell_type": "markdown",
   "id": "422b22d4",
   "metadata": {
    "papermill": {
     "duration": 0.017169,
     "end_time": "2022-11-16T13:07:30.343569",
     "exception": false,
     "start_time": "2022-11-16T13:07:30.326400",
     "status": "completed"
    },
    "tags": []
   },
   "source": [
    "print best model parameters"
   ]
  },
  {
   "cell_type": "code",
   "execution_count": 29,
   "id": "02ed69d4",
   "metadata": {
    "execution": {
     "iopub.execute_input": "2022-11-16T13:07:30.378355Z",
     "iopub.status.busy": "2022-11-16T13:07:30.377927Z",
     "iopub.status.idle": "2022-11-16T13:07:30.384498Z",
     "shell.execute_reply": "2022-11-16T13:07:30.383338Z"
    },
    "papermill": {
     "duration": 0.027401,
     "end_time": "2022-11-16T13:07:30.387591",
     "exception": false,
     "start_time": "2022-11-16T13:07:30.360190",
     "status": "completed"
    },
    "tags": []
   },
   "outputs": [
    {
     "name": "stdout",
     "output_type": "stream",
     "text": [
      "best result for: optimizer = sgd, layer = 10, F-measure = 0.676376\n"
     ]
    }
   ],
   "source": [
    "params = mlp_best_model.get_params()\n",
    "print('best result for: optimizer = %s, layer = %s, F-measure = %f' % (params['solver'], params['hidden_layer_sizes'], mlp_best_result))"
   ]
  },
  {
   "cell_type": "markdown",
   "id": "83ea1a7e",
   "metadata": {
    "id": "EAubeiBSc04v",
    "papermill": {
     "duration": 0.016341,
     "end_time": "2022-11-16T13:07:30.423413",
     "exception": false,
     "start_time": "2022-11-16T13:07:30.407072",
     "status": "completed"
    },
    "tags": []
   },
   "source": [
    "---\n",
    "<a id='section8'></a>\n",
    "## 8. Final Evaluation\n",
    "runnig the best models from each technique on the test set."
   ]
  },
  {
   "cell_type": "code",
   "execution_count": 30,
   "id": "18005004",
   "metadata": {
    "execution": {
     "iopub.execute_input": "2022-11-16T13:07:30.457786Z",
     "iopub.status.busy": "2022-11-16T13:07:30.457358Z",
     "iopub.status.idle": "2022-11-16T13:07:57.804571Z",
     "shell.execute_reply": "2022-11-16T13:07:57.802973Z"
    },
    "papermill": {
     "duration": 27.369418,
     "end_time": "2022-11-16T13:07:57.809278",
     "exception": false,
     "start_time": "2022-11-16T13:07:30.439860",
     "status": "completed"
    },
    "tags": []
   },
   "outputs": [],
   "source": [
    "knn_pred = knn_best_model.predict(test_x)\n",
    "svm_pred = svm_best_model.predict(test_x)\n",
    "dt_pred = dt_best_model.predict(test_x)\n",
    "rf_pred = rf_best_model.predict(test_x)\n",
    "mlp_pred = mlp_best_model.predict(test_x)"
   ]
  },
  {
   "cell_type": "markdown",
   "id": "e624b935",
   "metadata": {
    "papermill": {
     "duration": 0.041417,
     "end_time": "2022-11-16T13:07:57.892782",
     "exception": false,
     "start_time": "2022-11-16T13:07:57.851365",
     "status": "completed"
    },
    "tags": []
   },
   "source": [
    "get results"
   ]
  },
  {
   "cell_type": "code",
   "execution_count": 31,
   "id": "f5526fe7",
   "metadata": {
    "execution": {
     "iopub.execute_input": "2022-11-16T13:07:57.946031Z",
     "iopub.status.busy": "2022-11-16T13:07:57.945635Z",
     "iopub.status.idle": "2022-11-16T13:07:57.954248Z",
     "shell.execute_reply": "2022-11-16T13:07:57.953392Z"
    },
    "id": "CxsL4Fiw2odA",
    "papermill": {
     "duration": 0.029478,
     "end_time": "2022-11-16T13:07:57.956475",
     "exception": false,
     "start_time": "2022-11-16T13:07:57.926997",
     "status": "completed"
    },
    "tags": []
   },
   "outputs": [],
   "source": [
    "final_fmeasures = {}\n",
    "final_fmeasures['knn'] = get_Fmeasure(knn_pred, test_y)\n",
    "final_fmeasures['svm'] = get_Fmeasure(svm_pred, test_y)\n",
    "final_fmeasures['decision tree'] = get_Fmeasure(dt_pred, test_y)\n",
    "final_fmeasures['rand forest'] = get_Fmeasure(rf_pred, test_y)\n",
    "final_fmeasures['mlp'] = get_Fmeasure(mlp_pred, test_y)"
   ]
  },
  {
   "cell_type": "markdown",
   "id": "1378c214",
   "metadata": {
    "papermill": {
     "duration": 0.01592,
     "end_time": "2022-11-16T13:07:57.988810",
     "exception": false,
     "start_time": "2022-11-16T13:07:57.972890",
     "status": "completed"
    },
    "tags": []
   },
   "source": [
    "plot all the results"
   ]
  },
  {
   "cell_type": "code",
   "execution_count": 32,
   "id": "d5c7c1e5",
   "metadata": {
    "execution": {
     "iopub.execute_input": "2022-11-16T13:07:58.024470Z",
     "iopub.status.busy": "2022-11-16T13:07:58.023678Z",
     "iopub.status.idle": "2022-11-16T13:07:58.219779Z",
     "shell.execute_reply": "2022-11-16T13:07:58.218953Z"
    },
    "id": "JRozmVrCfQmM",
    "outputId": "84b32daf-731b-4c42-a938-49d370ee8d1c",
    "papermill": {
     "duration": 0.21696,
     "end_time": "2022-11-16T13:07:58.222116",
     "exception": false,
     "start_time": "2022-11-16T13:07:58.005156",
     "status": "completed"
    },
    "tags": []
   },
   "outputs": [
    {
     "data": {
      "image/png": "[encoded data removed]",
      "text/plain": [
       "<Figure size 432x288 with 1 Axes>"
      ]
     },
     "metadata": {
      "needs_background": "light"
     },
     "output_type": "display_data"
    }
   ],
   "source": [
    "plt.bar(final_fmeasures.keys(), final_fmeasures.values(), color=['blue', 'orange', 'green', 'red', 'cyan'], width=.6)\n",
    "plt.title('Final Evaluation')\n",
    "plt.xlabel('models')\n",
    "plt.ylabel('F-measure')\n",
    "plt.ylim(0.5, 0.7)\n",
    "plt.show()"
   ]
  },
  {
   "cell_type": "markdown",
   "id": "d4c379c9",
   "metadata": {
    "papermill": {
     "duration": 0.015863,
     "end_time": "2022-11-16T13:07:58.254303",
     "exception": false,
     "start_time": "2022-11-16T13:07:58.238440",
     "status": "completed"
    },
    "tags": []
   },
   "source": [
    "print best model results"
   ]
  },
  {
   "cell_type": "code",
   "execution_count": 33,
   "id": "5d588d23",
   "metadata": {
    "execution": {
     "iopub.execute_input": "2022-11-16T13:07:58.288786Z",
     "iopub.status.busy": "2022-11-16T13:07:58.288023Z",
     "iopub.status.idle": "2022-11-16T13:07:58.331080Z",
     "shell.execute_reply": "2022-11-16T13:07:58.329548Z"
    },
    "papermill": {
     "duration": 0.063006,
     "end_time": "2022-11-16T13:07:58.333465",
     "exception": false,
     "start_time": "2022-11-16T13:07:58.270459",
     "status": "completed"
    },
    "tags": []
   },
   "outputs": [
    {
     "name": "stdout",
     "output_type": "stream",
     "text": [
      "\n",
      "               precision    recall  f1-score   support\n",
      "\n",
      "           0       0.99      0.84      0.91     16484\n",
      "           1       0.51      0.94      0.66      2960\n",
      "\n",
      "    accuracy                           0.85     19444\n",
      "   macro avg       0.75      0.89      0.79     19444\n",
      "weighted avg       0.92      0.85      0.87     19444\n",
      "\n"
     ]
    }
   ],
   "source": [
    "print('\\n', classification_report(test_y, rf_pred))"
   ]
  },
  {
   "cell_type": "code",
   "execution_count": null,
   "id": "b8180471",
   "metadata": {
    "papermill": {
     "duration": 0.016005,
     "end_time": "2022-11-16T13:07:58.365863",
     "exception": false,
     "start_time": "2022-11-16T13:07:58.349858",
     "status": "completed"
    },
    "tags": []
   },
   "outputs": [],
   "source": []
  }
 ],
 "metadata": {
  "kernelspec": {
   "display_name": "Python 3",
   "language": "python",
   "name": "python3"
  },
  "language_info": {
   "codemirror_mode": {
    "name": "ipython",
    "version": 3
   },
   "file_extension": ".py",
   "mimetype": "text/x-python",
   "name": "python",
   "nbconvert_exporter": "python",
   "pygments_lexer": "ipython3",
   "version": "3.7.12"
  },
  "papermill": {
   "default_parameters": {},
   "duration": 1396.201621,
   "end_time": "2022-11-16T13:07:59.207480",
   "environment_variables": {},
   "exception": null,
   "input_path": "__notebook__.ipynb",
   "output_path": "__notebook__.ipynb",
   "parameters": {},
   "start_time": "2022-11-16T12:44:43.005859",
   "version": "2.3.4"
  }
 },
 "nbformat": 4,
 "nbformat_minor": 5
}
